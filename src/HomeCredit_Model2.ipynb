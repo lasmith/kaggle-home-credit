{
 "cells": [
  {
   "cell_type": "code",
   "execution_count": 1,
   "metadata": {},
   "outputs": [
    {
     "name": "stderr",
     "output_type": "stream",
     "text": [
      "Using TensorFlow backend.\n"
     ]
    }
   ],
   "source": [
    "import os, sys\n",
    "import numpy as np\n",
    "from matplotlib import pyplot as plt\n",
    "\n",
    "import pandas as pd\n",
    "\n",
    "from sklearn.metrics import confusion_matrix\n",
    "from sklearn.preprocessing import OneHotEncoder\n",
    "\n",
    "from keras.models import Sequential, Model\n",
    "# from keras.layers import Input, Embedding, Reshape, merge, LSTM, Bidirectional\n",
    "# from keras.layers import TimeDistributed, Activation, SimpleRNN, GRU\n",
    "from keras.layers.core import Flatten, Dense, Dropout, Lambda\n",
    "#from keras.regularizers import l2, activity_l2, l1, activity_l1\n",
    "from keras.layers.normalization import BatchNormalization\n",
    "from keras.optimizers import SGD, RMSprop, Adam\n",
    "\n",
    "from sklearn.model_selection import train_test_split\n",
    "\n",
    "from pre_process import *\n",
    "\n",
    "%matplotlib inline"
   ]
  },
  {
   "cell_type": "code",
   "execution_count": 2,
   "metadata": {},
   "outputs": [],
   "source": [
    "# Init some useful dirs\n",
    "current_dir = os.getcwd()\n",
    "DATA_HOME_DIR = current_dir+'/../data/'"
   ]
  },
  {
   "cell_type": "markdown",
   "metadata": {},
   "source": [
    "## Data"
   ]
  },
  {
   "cell_type": "code",
   "execution_count": 3,
   "metadata": {},
   "outputs": [],
   "source": [
    "pd.options.display.max_columns = None"
   ]
  },
  {
   "cell_type": "code",
   "execution_count": 4,
   "metadata": {},
   "outputs": [],
   "source": [
    "cols = ['SK_ID_CURR',\n",
    "        # Some columns that sound useful!\n",
    "        'NAME_CONTRACT_TYPE',\n",
    "        'CODE_GENDER',\n",
    "        'FLAG_OWN_CAR',\n",
    "        'FLAG_OWN_REALTY',\n",
    "        'NAME_TYPE_SUITE',\n",
    "        'NAME_INCOME_TYPE',\n",
    "        'NAME_EDUCATION_TYPE',\n",
    "        'NAME_FAMILY_STATUS',\n",
    "        'NAME_HOUSING_TYPE',\n",
    "        'DAYS_REGISTRATION',\n",
    "        'OWN_CAR_AGE',\n",
    "        # Positively correlated to the target ( top 10 )\n",
    "        'DAYS_BIRTH',\n",
    "        'REGION_RATING_CLIENT_W_CITY',\n",
    "        'REGION_RATING_CLIENT',\n",
    "        'DAYS_LAST_PHONE_CHANGE',\n",
    "        'DAYS_ID_PUBLISH',\n",
    "        'REG_CITY_NOT_WORK_CITY',\n",
    "        'FLAG_EMP_PHONE',\n",
    "        'REG_CITY_NOT_LIVE_CITY',\n",
    "        'FLAG_DOCUMENT_3',\n",
    "        # Negative correlated to the target (top 10)\n",
    "        'ELEVATORS_AVG',\n",
    "        'REGION_POPULATION_RELATIVE',\n",
    "        'AMT_GOODS_PRICE',\n",
    "        'FLOORSMAX_MODE',\n",
    "        'FLOORSMAX_MEDI',\n",
    "        'FLOORSMAX_AVG',\n",
    "        'DAYS_EMPLOYED',\n",
    "        'EXT_SOURCE_1',\n",
    "        'EXT_SOURCE_3',\n",
    "        'EXT_SOURCE_2'\n",
    "        ]"
   ]
  },
  {
   "cell_type": "code",
   "execution_count": 5,
   "metadata": {},
   "outputs": [],
   "source": [
    "df_train, df_test, y = load_train_test_data(DATA_HOME_DIR,in_cols=cols) "
   ]
  },
  {
   "cell_type": "code",
   "execution_count": 6,
   "metadata": {},
   "outputs": [
    {
     "data": {
      "text/plain": [
       "(307511, 31)"
      ]
     },
     "execution_count": 6,
     "metadata": {},
     "output_type": "execute_result"
    }
   ],
   "source": [
    "df_train.shape"
   ]
  },
  {
   "cell_type": "markdown",
   "metadata": {},
   "source": [
    "### Additional features"
   ]
  },
  {
   "cell_type": "code",
   "execution_count": 7,
   "metadata": {},
   "outputs": [],
   "source": [
    "df_train, df_test = append_bureau_data(in_dir=DATA_HOME_DIR, df_train=df_train, df_test=df_test)"
   ]
  },
  {
   "cell_type": "code",
   "execution_count": 8,
   "metadata": {},
   "outputs": [],
   "source": [
    "df_train, df_test = append_previous_applications(in_dir=DATA_HOME_DIR, df_train=df_train, df_test=df_test)"
   ]
  },
  {
   "cell_type": "code",
   "execution_count": 9,
   "metadata": {},
   "outputs": [],
   "source": [
    "#df_train, df_test = append_pos_data(in_dir=DATA_HOME_DIR, df_train=df_train, df_test=df_test)"
   ]
  },
  {
   "cell_type": "code",
   "execution_count": 10,
   "metadata": {},
   "outputs": [],
   "source": [
    "#df_train, df_test = append_credit_card_data(in_dir=DATA_HOME_DIR, df_train=df_train, df_test=df_test)"
   ]
  },
  {
   "cell_type": "code",
   "execution_count": 11,
   "metadata": {},
   "outputs": [],
   "source": [
    "#df_train, df_test = append_installments_data(in_dir=DATA_HOME_DIR, df_train=df_train, df_test=df_test)"
   ]
  },
  {
   "cell_type": "code",
   "execution_count": 12,
   "metadata": {},
   "outputs": [
    {
     "data": {
      "text/plain": [
       "(307511, 240)"
      ]
     },
     "execution_count": 12,
     "metadata": {},
     "output_type": "execute_result"
    }
   ],
   "source": [
    "df_train.shape"
   ]
  },
  {
   "cell_type": "markdown",
   "metadata": {},
   "source": [
    "### Numericals standardizing"
   ]
  },
  {
   "cell_type": "code",
   "execution_count": 13,
   "metadata": {},
   "outputs": [],
   "source": [
    "numerical_feats = [\n",
    "            f for f in df_train.columns if df_train[f].dtype == 'float64' or df_train[f].dtype == 'int64'\n",
    "        ]\n"
   ]
  },
  {
   "cell_type": "code",
   "execution_count": 14,
   "metadata": {},
   "outputs": [],
   "source": [
    "df_train_norm = normalize_numericals(df_train, numerical_feats)"
   ]
  },
  {
   "cell_type": "code",
   "execution_count": 15,
   "metadata": {},
   "outputs": [],
   "source": [
    "df_test_norm = normalize_numericals(df_test, numerical_feats)"
   ]
  },
  {
   "cell_type": "code",
   "execution_count": 16,
   "metadata": {},
   "outputs": [],
   "source": [
    "df_train_enc, df_test_enc = load_data_dummies(df_train_norm, df_test_norm)"
   ]
  },
  {
   "cell_type": "code",
   "execution_count": 17,
   "metadata": {},
   "outputs": [
    {
     "data": {
      "text/plain": [
       "(307511, 272)"
      ]
     },
     "execution_count": 17,
     "metadata": {},
     "output_type": "execute_result"
    }
   ],
   "source": [
    "df_train_enc.shape"
   ]
  },
  {
   "cell_type": "code",
   "execution_count": 18,
   "metadata": {},
   "outputs": [
    {
     "data": {
      "text/plain": [
       "(48744, 2750)"
      ]
     },
     "execution_count": 18,
     "metadata": {},
     "output_type": "execute_result"
    }
   ],
   "source": [
    "df_test_enc.shape"
   ]
  },
  {
   "cell_type": "markdown",
   "metadata": {},
   "source": [
    "# Split data\n",
    "TODO: cross folds"
   ]
  },
  {
   "cell_type": "code",
   "execution_count": 19,
   "metadata": {},
   "outputs": [],
   "source": [
    "x_train, x_test, y_train, y_test = train_test_split( df_train_enc, y, test_size=0.2, random_state=42)"
   ]
  },
  {
   "cell_type": "code",
   "execution_count": 20,
   "metadata": {},
   "outputs": [
    {
     "data": {
      "text/plain": [
       "(246008, 272)"
      ]
     },
     "execution_count": 20,
     "metadata": {},
     "output_type": "execute_result"
    }
   ],
   "source": [
    "x_train.shape"
   ]
  },
  {
   "cell_type": "code",
   "execution_count": 21,
   "metadata": {},
   "outputs": [
    {
     "data": {
      "text/plain": [
       "(246008,)"
      ]
     },
     "execution_count": 21,
     "metadata": {},
     "output_type": "execute_result"
    }
   ],
   "source": [
    "y_train.shape"
   ]
  },
  {
   "cell_type": "markdown",
   "metadata": {},
   "source": [
    "## Model Setup\n",
    "Lets create a simple convolutional model with 2 layers and try to train that. This will be our baseline performance for any convolutional architecture we try "
   ]
  },
  {
   "cell_type": "code",
   "execution_count": 22,
   "metadata": {},
   "outputs": [],
   "source": [
    "in_layers = x_train.shape[1]\n",
    "fd_layers = in_layers*2\n",
    "learning_rate = 0.01"
   ]
  },
  {
   "cell_type": "code",
   "execution_count": 23,
   "metadata": {},
   "outputs": [],
   "source": [
    "model = Sequential()\n",
    "model.add(Dense(fd_layers, input_dim=in_layers, activation='relu'))\n",
    "model.add(Dense(int((fd_layers/2)), activation='relu'))\n",
    "model.add(BatchNormalization())\n",
    "model.add(Dense(1, activation='sigmoid'))\n",
    "model.compile(loss='binary_crossentropy', optimizer=Adam(lr=learning_rate), metrics=['accuracy'])"
   ]
  },
  {
   "cell_type": "code",
   "execution_count": 24,
   "metadata": {},
   "outputs": [],
   "source": [
    "batch_size=64"
   ]
  },
  {
   "cell_type": "code",
   "execution_count": 25,
   "metadata": {},
   "outputs": [
    {
     "name": "stdout",
     "output_type": "stream",
     "text": [
      "_________________________________________________________________\n",
      "Layer (type)                 Output Shape              Param #   \n",
      "=================================================================\n",
      "dense_1 (Dense)              (None, 544)               148512    \n",
      "_________________________________________________________________\n",
      "dense_2 (Dense)              (None, 272)               148240    \n",
      "_________________________________________________________________\n",
      "batch_normalization_1 (Batch (None, 272)               1088      \n",
      "_________________________________________________________________\n",
      "dense_3 (Dense)              (None, 1)                 273       \n",
      "=================================================================\n",
      "Total params: 298,113\n",
      "Trainable params: 297,569\n",
      "Non-trainable params: 544\n",
      "_________________________________________________________________\n"
     ]
    }
   ],
   "source": [
    "model.summary()"
   ]
  },
  {
   "cell_type": "code",
   "execution_count": 26,
   "metadata": {},
   "outputs": [],
   "source": [
    "from roc_callback import *\n",
    "roc_cb = roc_callback(training_data=(x_train, y_train),validation_data=(x_test, y_test))"
   ]
  },
  {
   "cell_type": "code",
   "execution_count": 27,
   "metadata": {},
   "outputs": [
    {
     "name": "stdout",
     "output_type": "stream",
     "text": [
      "Epoch 1/10\n",
      "246008/246008 [==============================] - 24s 97us/step - loss: 0.2760 - acc: 0.9185\n",
      "roc-auc: 0.6508 - roc-auc_val: 0.6534                                                                                                    \n",
      "Epoch 2/10\n",
      "246008/246008 [==============================] - 23s 94us/step - loss: 0.2710 - acc: 0.9192\n",
      "roc-auc: 0.6587 - roc-auc_val: 0.6579                                                                                                    \n",
      "Epoch 3/10\n",
      "246008/246008 [==============================] - 23s 94us/step - loss: 0.2693 - acc: 0.9192\n",
      "roc-auc: 0.6702 - roc-auc_val: 0.6697                                                                                                    \n",
      "Epoch 4/10\n",
      "246008/246008 [==============================] - 23s 95us/step - loss: 0.2681 - acc: 0.9191\n",
      "roc-auc: 0.6719 - roc-auc_val: 0.6698                                                                                                    \n",
      "Epoch 5/10\n",
      "246008/246008 [==============================] - 23s 92us/step - loss: 0.2672 - acc: 0.9192\n",
      "roc-auc: 0.675 - roc-auc_val: 0.6704                                                                                                    \n",
      "Epoch 6/10\n",
      "246008/246008 [==============================] - 23s 92us/step - loss: 0.2666 - acc: 0.9192\n",
      "roc-auc: 0.6805 - roc-auc_val: 0.6795                                                                                                    \n",
      "Epoch 7/10\n",
      "246008/246008 [==============================] - 24s 98us/step - loss: 0.2661 - acc: 0.9192\n",
      "roc-auc: 0.6843 - roc-auc_val: 0.6806                                                                                                    \n",
      "Epoch 8/10\n",
      "246008/246008 [==============================] - 24s 97us/step - loss: 0.2657 - acc: 0.9192\n",
      "roc-auc: 0.6864 - roc-auc_val: 0.6826                                                                                                    \n",
      "Epoch 9/10\n",
      "246008/246008 [==============================] - 23s 93us/step - loss: 0.2656 - acc: 0.9192\n",
      "roc-auc: 0.6886 - roc-auc_val: 0.6835                                                                                                    \n",
      "Epoch 10/10\n",
      "246008/246008 [==============================] - 16s 67us/step - loss: 0.2654 - acc: 0.9192\n",
      "roc-auc: 0.6923 - roc-auc_val: 0.6849                                                                                                    \n"
     ]
    },
    {
     "data": {
      "text/plain": [
       "<keras.callbacks.History at 0x274eabde4a8>"
      ]
     },
     "execution_count": 27,
     "metadata": {},
     "output_type": "execute_result"
    }
   ],
   "source": [
    "model.fit(x_train, y_train, epochs=10, batch_size=batch_size, callbacks=[roc_cb])"
   ]
  },
  {
   "cell_type": "code",
   "execution_count": 31,
   "metadata": {},
   "outputs": [],
   "source": [
    "model.optimizer.lr = 0.01"
   ]
  },
  {
   "cell_type": "code",
   "execution_count": 32,
   "metadata": {},
   "outputs": [
    {
     "name": "stdout",
     "output_type": "stream",
     "text": [
      "Epoch 1/20\n",
      "246008/246008 [==============================] - 17s 68us/step - loss: 0.2640 - acc: 0.9192\n",
      "roc-auc: 0.6964 - roc-auc_val: 0.683                                                                                                    \n",
      "Epoch 2/20\n",
      "246008/246008 [==============================] - 17s 67us/step - loss: 0.2639 - acc: 0.9192\n",
      "roc-auc: 0.6958 - roc-auc_val: 0.6825                                                                                                    \n",
      "Epoch 3/20\n",
      "246008/246008 [==============================] - 17s 67us/step - loss: 0.2637 - acc: 0.9192\n",
      "roc-auc: 0.6992 - roc-auc_val: 0.6858                                                                                                    \n",
      "Epoch 4/20\n",
      "246008/246008 [==============================] - 17s 67us/step - loss: 0.2632 - acc: 0.9192\n",
      "roc-auc: 0.7034 - roc-auc_val: 0.684                                                                                                    \n",
      "Epoch 5/20\n",
      "246008/246008 [==============================] - 17s 67us/step - loss: 0.2626 - acc: 0.9191\n",
      "roc-auc: 0.7001 - roc-auc_val: 0.6828                                                                                                    \n",
      "Epoch 6/20\n",
      "246008/246008 [==============================] - 17s 68us/step - loss: 0.2624 - acc: 0.9192\n",
      "roc-auc: 0.7054 - roc-auc_val: 0.6854                                                                                                    \n",
      "Epoch 7/20\n",
      "246008/246008 [==============================] - 17s 68us/step - loss: 0.2622 - acc: 0.9192\n",
      "roc-auc: 0.701 - roc-auc_val: 0.6777                                                                                                    \n",
      "Epoch 8/20\n",
      "246008/246008 [==============================] - 17s 68us/step - loss: 0.2620 - acc: 0.9192\n",
      "roc-auc: 0.7071 - roc-auc_val: 0.6841                                                                                                    \n",
      "Epoch 9/20\n",
      "246008/246008 [==============================] - 17s 68us/step - loss: 0.2617 - acc: 0.9193\n",
      "roc-auc: 0.7048 - roc-auc_val: 0.6781                                                                                                    \n",
      "Epoch 10/20\n",
      "246008/246008 [==============================] - 17s 68us/step - loss: 0.2616 - acc: 0.9193\n",
      "roc-auc: 0.7084 - roc-auc_val: 0.6831                                                                                                    \n",
      "Epoch 11/20\n",
      "246008/246008 [==============================] - 17s 68us/step - loss: 0.2614 - acc: 0.9193\n",
      "roc-auc: 0.7099 - roc-auc_val: 0.6841                                                                                                    \n",
      "Epoch 12/20\n",
      "246008/246008 [==============================] - 17s 68us/step - loss: 0.2609 - acc: 0.9194\n",
      "roc-auc: 0.7126 - roc-auc_val: 0.6781                                                                                                    \n",
      "Epoch 13/20\n",
      "246008/246008 [==============================] - 17s 68us/step - loss: 0.2607 - acc: 0.9193\n",
      "roc-auc: 0.7122 - roc-auc_val: 0.6821                                                                                                    \n",
      "Epoch 14/20\n",
      "246008/246008 [==============================] - 17s 68us/step - loss: 0.2605 - acc: 0.9193\n",
      "roc-auc: 0.7117 - roc-auc_val: 0.6799                                                                                                    \n",
      "Epoch 15/20\n",
      "246008/246008 [==============================] - 17s 69us/step - loss: 0.2603 - acc: 0.9193\n",
      "roc-auc: 0.7113 - roc-auc_val: 0.6806                                                                                                    \n",
      "Epoch 16/20\n",
      "246008/246008 [==============================] - 17s 70us/step - loss: 0.2599 - acc: 0.9193\n",
      "roc-auc: 0.716 - roc-auc_val: 0.6813                                                                                                    \n",
      "Epoch 17/20\n",
      "246008/246008 [==============================] - 18s 74us/step - loss: 0.2601 - acc: 0.9193\n",
      "roc-auc: 0.7148 - roc-auc_val: 0.6808                                                                                                    \n",
      "Epoch 18/20\n",
      "246008/246008 [==============================] - 17s 69us/step - loss: 0.2597 - acc: 0.9194\n",
      "roc-auc: 0.7187 - roc-auc_val: 0.6811                                                                                                    \n",
      "Epoch 19/20\n",
      "246008/246008 [==============================] - 17s 69us/step - loss: 0.2597 - acc: 0.9193\n",
      "roc-auc: 0.7184 - roc-auc_val: 0.678                                                                                                    \n",
      "Epoch 20/20\n",
      "246008/246008 [==============================] - 17s 69us/step - loss: 0.2593 - acc: 0.9194\n",
      "roc-auc: 0.7161 - roc-auc_val: 0.675                                                                                                    \n"
     ]
    },
    {
     "data": {
      "text/plain": [
       "<keras.callbacks.History at 0x27482fa4e80>"
      ]
     },
     "execution_count": 32,
     "metadata": {},
     "output_type": "execute_result"
    }
   ],
   "source": [
    "model.fit(x_train, y_train, epochs=20, batch_size=batch_size, callbacks=[roc_cb])"
   ]
  },
  {
   "cell_type": "code",
   "execution_count": 33,
   "metadata": {},
   "outputs": [
    {
     "name": "stdout",
     "output_type": "stream",
     "text": [
      "Epoch 1/20\n",
      "246008/246008 [==============================] - 17s 67us/step - loss: 0.2591 - acc: 0.9193\n",
      "roc-auc: 0.7182 - roc-auc_val: 0.6801                                                                                                    \n",
      "Epoch 2/20\n",
      "246008/246008 [==============================] - 17s 68us/step - loss: 0.2590 - acc: 0.9194\n",
      "roc-auc: 0.7198 - roc-auc_val: 0.6814                                                                                                    \n",
      "Epoch 3/20\n",
      "246008/246008 [==============================] - 16s 67us/step - loss: 0.2588 - acc: 0.9195\n",
      "roc-auc: 0.7222 - roc-auc_val: 0.6788                                                                                                    \n",
      "Epoch 4/20\n",
      "246008/246008 [==============================] - 17s 67us/step - loss: 0.2584 - acc: 0.9195\n",
      "roc-auc: 0.7242 - roc-auc_val: 0.6776                                                                                                    \n",
      "Epoch 5/20\n",
      "246008/246008 [==============================] - 17s 68us/step - loss: 0.2583 - acc: 0.9195\n",
      "roc-auc: 0.7243 - roc-auc_val: 0.6798                                                                                                    \n",
      "Epoch 6/20\n",
      "246008/246008 [==============================] - 17s 68us/step - loss: 0.2583 - acc: 0.9195\n",
      "roc-auc: 0.7255 - roc-auc_val: 0.6791                                                                                                    \n",
      "Epoch 7/20\n",
      "246008/246008 [==============================] - 17s 68us/step - loss: 0.2580 - acc: 0.9194\n",
      "roc-auc: 0.7232 - roc-auc_val: 0.6766                                                                                                    \n",
      "Epoch 8/20\n",
      "246008/246008 [==============================] - 17s 68us/step - loss: 0.2578 - acc: 0.9195\n",
      "roc-auc: 0.7254 - roc-auc_val: 0.6771                                                                                                    \n",
      "Epoch 9/20\n",
      "246008/246008 [==============================] - 17s 67us/step - loss: 0.2575 - acc: 0.9194\n",
      "roc-auc: 0.7274 - roc-auc_val: 0.6766                                                                                                    \n",
      "Epoch 10/20\n",
      "246008/246008 [==============================] - 17s 68us/step - loss: 0.2576 - acc: 0.9195\n",
      "roc-auc: 0.7251 - roc-auc_val: 0.6761                                                                                                    \n",
      "Epoch 11/20\n",
      "246008/246008 [==============================] - 17s 69us/step - loss: 0.2575 - acc: 0.9195\n",
      "roc-auc: 0.7136 - roc-auc_val: 0.6711                                                                                                    \n",
      "Epoch 12/20\n",
      "246008/246008 [==============================] - 17s 68us/step - loss: 0.2573 - acc: 0.9196\n",
      "roc-auc: 0.7281 - roc-auc_val: 0.673                                                                                                    \n",
      "Epoch 13/20\n",
      "246008/246008 [==============================] - 17s 69us/step - loss: 0.2570 - acc: 0.9195\n",
      "roc-auc: 0.7281 - roc-auc_val: 0.6764                                                                                                    \n",
      "Epoch 14/20\n",
      "246008/246008 [==============================] - 17s 69us/step - loss: 0.2569 - acc: 0.9196\n",
      "roc-auc: 0.729 - roc-auc_val: 0.6759                                                                                                    \n",
      "Epoch 15/20\n",
      "246008/246008 [==============================] - 17s 68us/step - loss: 0.2567 - acc: 0.9195\n",
      "roc-auc: 0.7323 - roc-auc_val: 0.6744                                                                                                    \n",
      "Epoch 16/20\n",
      "246008/246008 [==============================] - 17s 69us/step - loss: 0.2567 - acc: 0.9195\n",
      "roc-auc: 0.7334 - roc-auc_val: 0.675                                                                                                    \n",
      "Epoch 17/20\n",
      "246008/246008 [==============================] - 17s 68us/step - loss: 0.2564 - acc: 0.9195\n",
      "roc-auc: 0.7305 - roc-auc_val: 0.6753                                                                                                    \n",
      "Epoch 18/20\n",
      "246008/246008 [==============================] - 17s 69us/step - loss: 0.2565 - acc: 0.9195\n",
      "roc-auc: 0.7293 - roc-auc_val: 0.6719                                                                                                    \n",
      "Epoch 19/20\n",
      "246008/246008 [==============================] - 17s 69us/step - loss: 0.2563 - acc: 0.9196\n",
      "roc-auc: 0.7311 - roc-auc_val: 0.6756                                                                                                    \n",
      "Epoch 20/20\n",
      "246008/246008 [==============================] - 17s 69us/step - loss: 0.2562 - acc: 0.9196\n",
      "roc-auc: 0.7327 - roc-auc_val: 0.6781                                                                                                    \n"
     ]
    },
    {
     "data": {
      "text/plain": [
       "<keras.callbacks.History at 0x27482fa4e48>"
      ]
     },
     "execution_count": 33,
     "metadata": {},
     "output_type": "execute_result"
    }
   ],
   "source": [
    "model.optimizer.lr = 0.001\n",
    "model.fit(x_train, y_train, epochs=20, batch_size=batch_size, callbacks=[roc_cb])"
   ]
  }
 ],
 "metadata": {
  "kernelspec": {
   "display_name": "Python 3",
   "language": "python",
   "name": "python3"
  },
  "language_info": {
   "codemirror_mode": {
    "name": "ipython",
    "version": 3
   },
   "file_extension": ".py",
   "mimetype": "text/x-python",
   "name": "python",
   "nbconvert_exporter": "python",
   "pygments_lexer": "ipython3",
   "version": "3.6.2"
  }
 },
 "nbformat": 4,
 "nbformat_minor": 2
}
