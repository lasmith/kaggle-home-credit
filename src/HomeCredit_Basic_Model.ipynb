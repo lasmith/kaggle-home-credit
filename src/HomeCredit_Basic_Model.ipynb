{
 "cells": [
  {
   "cell_type": "code",
   "execution_count": 1,
   "metadata": {},
   "outputs": [
    {
     "name": "stderr",
     "output_type": "stream",
     "text": [
      "Using TensorFlow backend.\n"
     ]
    }
   ],
   "source": [
    "import os, sys\n",
    "import numpy as np\n",
    "from matplotlib import pyplot as plt\n",
    "\n",
    "import pandas as pd\n",
    "\n",
    "from sklearn.metrics import confusion_matrix\n",
    "from sklearn.preprocessing import OneHotEncoder\n",
    "\n",
    "from keras.models import Sequential, Model\n",
    "# from keras.layers import Input, Embedding, Reshape, merge, LSTM, Bidirectional\n",
    "# from keras.layers import TimeDistributed, Activation, SimpleRNN, GRU\n",
    "from keras.layers.core import Flatten, Dense, Dropout, Lambda\n",
    "#from keras.regularizers import l2, activity_l2, l1, activity_l1\n",
    "from keras.layers.normalization import BatchNormalization\n",
    "from keras.optimizers import SGD, RMSprop, Adam\n",
    "\n",
    "from sklearn.model_selection import train_test_split\n",
    "\n",
    "from pre_process import *\n",
    "\n",
    "%matplotlib inline"
   ]
  },
  {
   "cell_type": "code",
   "execution_count": 2,
   "metadata": {},
   "outputs": [],
   "source": [
    "# Init some useful dirs\n",
    "current_dir = os.getcwd()\n",
    "DATA_HOME_DIR = current_dir+'/../data/'"
   ]
  },
  {
   "cell_type": "markdown",
   "metadata": {},
   "source": [
    "## Data"
   ]
  },
  {
   "cell_type": "code",
   "execution_count": 3,
   "metadata": {},
   "outputs": [],
   "source": [
    "cols = ['SK_ID_CURR',\n",
    "        # Some columns that sound useful!\n",
    "        'NAME_CONTRACT_TYPE',\n",
    "        'CODE_GENDER',\n",
    "        'FLAG_OWN_CAR',\n",
    "        'FLAG_OWN_REALTY',\n",
    "        'NAME_TYPE_SUITE',\n",
    "        'NAME_INCOME_TYPE',\n",
    "        'NAME_EDUCATION_TYPE',\n",
    "        'NAME_FAMILY_STATUS',\n",
    "        'NAME_HOUSING_TYPE',\n",
    "        'DAYS_REGISTRATION',\n",
    "        'OWN_CAR_AGE',\n",
    "        # Positively correlated to the target ( top 10 )\n",
    "        'DAYS_BIRTH',\n",
    "        'REGION_RATING_CLIENT_W_CITY',\n",
    "        'REGION_RATING_CLIENT',\n",
    "        'DAYS_LAST_PHONE_CHANGE',\n",
    "        'DAYS_ID_PUBLISH',\n",
    "        'REG_CITY_NOT_WORK_CITY',\n",
    "        'FLAG_EMP_PHONE',\n",
    "        'REG_CITY_NOT_LIVE_CITY',\n",
    "        'FLAG_DOCUMENT_3',\n",
    "        # Negative correlated to the target (top 10)\n",
    "        'ELEVATORS_AVG',\n",
    "        'REGION_POPULATION_RELATIVE',\n",
    "        'AMT_GOODS_PRICE',\n",
    "        'FLOORSMAX_MODE',\n",
    "        'FLOORSMAX_MEDI',\n",
    "        'FLOORSMAX_AVG',\n",
    "        'DAYS_EMPLOYED',\n",
    "        'EXT_SOURCE_1',\n",
    "        'EXT_SOURCE_3',\n",
    "        'EXT_SOURCE_2'\n",
    "        ]"
   ]
  },
  {
   "cell_type": "code",
   "execution_count": 4,
   "metadata": {},
   "outputs": [],
   "source": [
    "df_train, df_test, y = load_train_test_data(DATA_HOME_DIR,in_cols=cols) "
   ]
  },
  {
   "cell_type": "code",
   "execution_count": 5,
   "metadata": {},
   "outputs": [
    {
     "data": {
      "text/plain": [
       "(307511, 31)"
      ]
     },
     "execution_count": 5,
     "metadata": {},
     "output_type": "execute_result"
    }
   ],
   "source": [
    "df_train.shape"
   ]
  },
  {
   "cell_type": "markdown",
   "metadata": {},
   "source": [
    "First grab the numericals to standardize"
   ]
  },
  {
   "cell_type": "code",
   "execution_count": 6,
   "metadata": {},
   "outputs": [],
   "source": [
    "numerical_feats = [\n",
    "            f for f in df_train.columns if df_train[f].dtype == 'float64' or df_train[f].dtype == 'int64'\n",
    "        ]\n"
   ]
  },
  {
   "cell_type": "code",
   "execution_count": 7,
   "metadata": {},
   "outputs": [],
   "source": [
    "df_train_norm = normalize_numericals(df_train, numerical_feats)"
   ]
  },
  {
   "cell_type": "code",
   "execution_count": 8,
   "metadata": {},
   "outputs": [],
   "source": [
    "df_test_norm = normalize_numericals(df_test, numerical_feats)"
   ]
  },
  {
   "cell_type": "code",
   "execution_count": 9,
   "metadata": {},
   "outputs": [],
   "source": [
    "df_train_enc, df_test_enc = load_data_dummies(df_train_norm, df_test_norm)"
   ]
  },
  {
   "cell_type": "code",
   "execution_count": 10,
   "metadata": {},
   "outputs": [
    {
     "data": {
      "text/plain": [
       "(307511, 63)"
      ]
     },
     "execution_count": 10,
     "metadata": {},
     "output_type": "execute_result"
    }
   ],
   "source": [
    "df_train_enc.shape"
   ]
  },
  {
   "cell_type": "code",
   "execution_count": 11,
   "metadata": {},
   "outputs": [
    {
     "data": {
      "text/html": [
       "<div>\n",
       "<style scoped>\n",
       "    .dataframe tbody tr th:only-of-type {\n",
       "        vertical-align: middle;\n",
       "    }\n",
       "\n",
       "    .dataframe tbody tr th {\n",
       "        vertical-align: top;\n",
       "    }\n",
       "\n",
       "    .dataframe thead th {\n",
       "        text-align: right;\n",
       "    }\n",
       "</style>\n",
       "<table border=\"1\" class=\"dataframe\">\n",
       "  <thead>\n",
       "    <tr style=\"text-align: right;\">\n",
       "      <th></th>\n",
       "      <th>NAME_CONTRACT_TYPE</th>\n",
       "      <th>CODE_GENDER</th>\n",
       "      <th>FLAG_OWN_CAR</th>\n",
       "      <th>FLAG_OWN_REALTY</th>\n",
       "      <th>NAME_TYPE_SUITE</th>\n",
       "      <th>NAME_INCOME_TYPE</th>\n",
       "      <th>NAME_EDUCATION_TYPE</th>\n",
       "      <th>NAME_FAMILY_STATUS</th>\n",
       "      <th>NAME_HOUSING_TYPE</th>\n",
       "    </tr>\n",
       "  </thead>\n",
       "  <tbody>\n",
       "    <tr>\n",
       "      <th>6334</th>\n",
       "      <td>Revolving loans</td>\n",
       "      <td>F</td>\n",
       "      <td>Y</td>\n",
       "      <td>Y</td>\n",
       "      <td>Unaccompanied</td>\n",
       "      <td>Working</td>\n",
       "      <td>Higher education</td>\n",
       "      <td>Married</td>\n",
       "      <td>House / apartment</td>\n",
       "    </tr>\n",
       "    <tr>\n",
       "      <th>157555</th>\n",
       "      <td>Revolving loans</td>\n",
       "      <td>F</td>\n",
       "      <td>Y</td>\n",
       "      <td>Y</td>\n",
       "      <td>Spouse, partner</td>\n",
       "      <td>Working</td>\n",
       "      <td>Secondary / secondary special</td>\n",
       "      <td>Married</td>\n",
       "      <td>House / apartment</td>\n",
       "    </tr>\n",
       "    <tr>\n",
       "      <th>110492</th>\n",
       "      <td>Cash loans</td>\n",
       "      <td>F</td>\n",
       "      <td>N</td>\n",
       "      <td>Y</td>\n",
       "      <td>Unaccompanied</td>\n",
       "      <td>Working</td>\n",
       "      <td>Secondary / secondary special</td>\n",
       "      <td>Married</td>\n",
       "      <td>House / apartment</td>\n",
       "    </tr>\n",
       "    <tr>\n",
       "      <th>47523</th>\n",
       "      <td>Cash loans</td>\n",
       "      <td>F</td>\n",
       "      <td>N</td>\n",
       "      <td>N</td>\n",
       "      <td>Unaccompanied</td>\n",
       "      <td>Commercial associate</td>\n",
       "      <td>Higher education</td>\n",
       "      <td>Married</td>\n",
       "      <td>House / apartment</td>\n",
       "    </tr>\n",
       "    <tr>\n",
       "      <th>289566</th>\n",
       "      <td>Cash loans</td>\n",
       "      <td>M</td>\n",
       "      <td>Y</td>\n",
       "      <td>N</td>\n",
       "      <td>Unaccompanied</td>\n",
       "      <td>Working</td>\n",
       "      <td>Secondary / secondary special</td>\n",
       "      <td>Married</td>\n",
       "      <td>House / apartment</td>\n",
       "    </tr>\n",
       "  </tbody>\n",
       "</table>\n",
       "</div>"
      ],
      "text/plain": [
       "       NAME_CONTRACT_TYPE CODE_GENDER FLAG_OWN_CAR FLAG_OWN_REALTY  \\\n",
       "6334      Revolving loans           F            Y               Y   \n",
       "157555    Revolving loans           F            Y               Y   \n",
       "110492         Cash loans           F            N               Y   \n",
       "47523          Cash loans           F            N               N   \n",
       "289566         Cash loans           M            Y               N   \n",
       "\n",
       "        NAME_TYPE_SUITE      NAME_INCOME_TYPE            NAME_EDUCATION_TYPE  \\\n",
       "6334      Unaccompanied               Working               Higher education   \n",
       "157555  Spouse, partner               Working  Secondary / secondary special   \n",
       "110492    Unaccompanied               Working  Secondary / secondary special   \n",
       "47523     Unaccompanied  Commercial associate               Higher education   \n",
       "289566    Unaccompanied               Working  Secondary / secondary special   \n",
       "\n",
       "       NAME_FAMILY_STATUS  NAME_HOUSING_TYPE  \n",
       "6334              Married  House / apartment  \n",
       "157555            Married  House / apartment  \n",
       "110492            Married  House / apartment  \n",
       "47523             Married  House / apartment  \n",
       "289566            Married  House / apartment  "
      ]
     },
     "execution_count": 11,
     "metadata": {},
     "output_type": "execute_result"
    }
   ],
   "source": [
    "pd.options.display.max_columns = None\n",
    "df_train.sample(5)"
   ]
  },
  {
   "cell_type": "markdown",
   "metadata": {},
   "source": [
    "# Split data\n",
    "TODO: cross folds"
   ]
  },
  {
   "cell_type": "code",
   "execution_count": 12,
   "metadata": {},
   "outputs": [],
   "source": [
    "x_train, x_test, y_train, y_test = train_test_split( df_train_enc, y, test_size=0.2, random_state=42)"
   ]
  },
  {
   "cell_type": "code",
   "execution_count": 13,
   "metadata": {},
   "outputs": [
    {
     "data": {
      "text/plain": [
       "(246008, 63)"
      ]
     },
     "execution_count": 13,
     "metadata": {},
     "output_type": "execute_result"
    }
   ],
   "source": [
    "x_train.shape"
   ]
  },
  {
   "cell_type": "code",
   "execution_count": 14,
   "metadata": {},
   "outputs": [
    {
     "data": {
      "text/plain": [
       "(246008,)"
      ]
     },
     "execution_count": 14,
     "metadata": {},
     "output_type": "execute_result"
    }
   ],
   "source": [
    "y_train.shape"
   ]
  },
  {
   "cell_type": "markdown",
   "metadata": {},
   "source": [
    "## Model Setup\n",
    "Lets create a simple convolutional model with 2 layers and try to train that. This will be our baseline performance for any convolutional architecture we try "
   ]
  },
  {
   "cell_type": "code",
   "execution_count": 15,
   "metadata": {},
   "outputs": [],
   "source": [
    "in_layers = 63\n",
    "fd_layers = in_layers*2\n",
    "learning_rate = 0.1"
   ]
  },
  {
   "cell_type": "code",
   "execution_count": null,
   "metadata": {},
   "outputs": [],
   "source": [
    "model = Sequential()\n",
    "model.add(Dense(fd_layers, input_dim=in_layers, activation='relu'))\n",
    "model.add(Dense(int((fd_layers/2)), activation='relu'))\n",
    "model.add(BatchNormalization())\n",
    "model.add(Dense(1, activation='sigmoid'))\n",
    "model.compile(loss='binary_crossentropy', optimizer=Adam(lr=learning_rate), metrics=['accuracy'])"
   ]
  },
  {
   "cell_type": "code",
   "execution_count": 17,
   "metadata": {},
   "outputs": [],
   "source": [
    "batch_size=64"
   ]
  },
  {
   "cell_type": "code",
   "execution_count": null,
   "metadata": {},
   "outputs": [],
   "source": [
    "model.summary()"
   ]
  },
  {
   "cell_type": "code",
   "execution_count": 20,
   "metadata": {},
   "outputs": [],
   "source": [
    "from roc_callback import *\n",
    "roc_cb = roc_callback(training_data=(x_train, y_train),validation_data=(x_test, y_test))"
   ]
  },
  {
   "cell_type": "code",
   "execution_count": 21,
   "metadata": {},
   "outputs": [
    {
     "name": "stdout",
     "output_type": "stream",
     "text": [
      "Epoch 1/10\n",
      "246008/246008 [==============================] - 9s 38us/step - loss: 0.2804 - acc: 0.9192\n",
      "roc-auc: 0.6205 - roc-auc_val: 0.6193                                                                                                    \n",
      "Epoch 2/10\n",
      "246008/246008 [==============================] - 9s 38us/step - loss: 0.2798 - acc: 0.9191\n",
      "roc-auc: 0.6272 - roc-auc_val: 0.6295                                                                                                    \n",
      "Epoch 3/10\n",
      "246008/246008 [==============================] - 9s 38us/step - loss: 0.2786 - acc: 0.9191\n",
      "roc-auc: 0.606 - roc-auc_val: 0.6053                                                                                                    \n",
      "Epoch 4/10\n",
      "246008/246008 [==============================] - 9s 38us/step - loss: 0.2799 - acc: 0.9191\n",
      "roc-auc: 0.632 - roc-auc_val: 0.6314                                                                                                    \n",
      "Epoch 5/10\n",
      "246008/246008 [==============================] - 10s 39us/step - loss: 0.2789 - acc: 0.9191\n",
      "roc-auc: 0.6281 - roc-auc_val: 0.6268                                                                                                    \n",
      "Epoch 6/10\n",
      "246008/246008 [==============================] - 9s 36us/step - loss: 0.2787 - acc: 0.9191\n",
      "roc-auc: 0.6359 - roc-auc_val: 0.636                                                                                                    \n",
      "Epoch 7/10\n",
      "246008/246008 [==============================] - 10s 39us/step - loss: 0.2788 - acc: 0.9191\n",
      "roc-auc: 0.6332 - roc-auc_val: 0.6327                                                                                                    \n",
      "Epoch 8/10\n",
      "246008/246008 [==============================] - 10s 42us/step - loss: 0.2787 - acc: 0.9191\n",
      "roc-auc: 0.6394 - roc-auc_val: 0.6361                                                                                                    \n",
      "Epoch 9/10\n",
      "246008/246008 [==============================] - 12s 48us/step - loss: 0.2787 - acc: 0.9191\n",
      "roc-auc: 0.638 - roc-auc_val: 0.636                                                                                                    \n",
      "Epoch 10/10\n",
      "246008/246008 [==============================] - 9s 36us/step - loss: 0.2781 - acc: 0.9191\n",
      "roc-auc: 0.636 - roc-auc_val: 0.6332                                                                                                    \n"
     ]
    },
    {
     "data": {
      "text/plain": [
       "<keras.callbacks.History at 0x2c8d702d940>"
      ]
     },
     "execution_count": 21,
     "metadata": {},
     "output_type": "execute_result"
    }
   ],
   "source": [
    "model.fit(x_train, y_train, epochs=10, batch_size=batch_size, callbacks=[roc_cb])"
   ]
  },
  {
   "cell_type": "code",
   "execution_count": 22,
   "metadata": {},
   "outputs": [],
   "source": [
    "model.optimizer.lr = 0.01"
   ]
  },
  {
   "cell_type": "code",
   "execution_count": 23,
   "metadata": {},
   "outputs": [
    {
     "name": "stdout",
     "output_type": "stream",
     "text": [
      "Epoch 1/5\n",
      "246008/246008 [==============================] - 9s 39us/step - loss: 0.2779 - acc: 0.9191\n",
      "roc-auc: 0.6381 - roc-auc_val: 0.6352                                                                                                    \n",
      "Epoch 2/5\n",
      "246008/246008 [==============================] - 9s 38us/step - loss: 0.2778 - acc: 0.9191\n",
      "roc-auc: 0.6408 - roc-auc_val: 0.6348                                                                                                    \n",
      "Epoch 3/5\n",
      "246008/246008 [==============================] - 9s 37us/step - loss: 0.2775 - acc: 0.9192\n",
      "roc-auc: 0.6388 - roc-auc_val: 0.6342                                                                                                    \n",
      "Epoch 4/5\n",
      "246008/246008 [==============================] - 9s 35us/step - loss: 0.2779 - acc: 0.9191\n",
      "roc-auc: 0.6044 - roc-auc_val: 0.5945                                                                                                    \n",
      "Epoch 5/5\n",
      "246008/246008 [==============================] - 9s 37us/step - loss: 0.2784 - acc: 0.9190\n",
      "roc-auc: 0.6385 - roc-auc_val: 0.6345                                                                                                    \n"
     ]
    },
    {
     "data": {
      "text/plain": [
       "<keras.callbacks.History at 0x2c8cee52748>"
      ]
     },
     "execution_count": 23,
     "metadata": {},
     "output_type": "execute_result"
    }
   ],
   "source": [
    "model.fit(x_train, y_train, epochs=5, batch_size=batch_size, callbacks=[roc_cb])"
   ]
  }
 ],
 "metadata": {
  "kernelspec": {
   "display_name": "Python 3",
   "language": "python",
   "name": "python3"
  },
  "language_info": {
   "codemirror_mode": {
    "name": "ipython",
    "version": 3
   },
   "file_extension": ".py",
   "mimetype": "text/x-python",
   "name": "python",
   "nbconvert_exporter": "python",
   "pygments_lexer": "ipython3",
   "version": "3.6.2"
  }
 },
 "nbformat": 4,
 "nbformat_minor": 2
}
